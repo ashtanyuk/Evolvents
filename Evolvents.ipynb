{
  "nbformat": 4,
  "nbformat_minor": 0,
  "metadata": {
    "colab": {
      "name": "Evolvents.ipynb",
      "provenance": [],
      "authorship_tag": "ABX9TyNnKyZ1RRP6L7uXXlmrPl0E",
      "include_colab_link": true
    },
    "kernelspec": {
      "name": "python3",
      "display_name": "Python 3"
    },
    "language_info": {
      "name": "python"
    }
  },
  "cells": [
    {
      "cell_type": "markdown",
      "metadata": {
        "id": "view-in-github",
        "colab_type": "text"
      },
      "source": [
        "<a href=\"https://colab.research.google.com/github/ashtanyuk/Evolvents/blob/main/Evolvents.ipynb\" target=\"_parent\"><img src=\"https://colab.research.google.com/assets/colab-badge.svg\" alt=\"Open In Colab\"/></a>"
      ]
    },
    {
      "cell_type": "code",
      "metadata": {
        "id": "ee_pcIAU5MIs"
      },
      "source": [
        "import numpy as np\n",
        "import matplotlib\n",
        "import matplotlib.pyplot as plt"
      ],
      "execution_count": 1,
      "outputs": []
    },
    {
      "cell_type": "code",
      "metadata": {
        "colab": {
          "base_uri": "https://localhost:8080/",
          "height": 269
        },
        "id": "lUer_xBd5elm",
        "outputId": "a50d7ad2-f761-4dcb-a7a6-8ad51b69d7ee"
      },
      "source": [
        "x1 = [0.75, 0.70, 0.67, 0.58, 0.81]\n",
        "y1 = [0.75, 0.72, 0.74, 0.64, 0.54]\n",
        "x2 = [0.25, 0.10, 0.27, 0.48, 0.31]\n",
        "y2 = [0.25, 0.12, 0.34, 0.24, 0.34]\n",
        "x = [0.6]\n",
        "y = [0.2]\n",
        "xx = [0.476562]\n",
        "yy = [0.242188]\n",
        "plt.xlim(0,1)\n",
        "plt.ylim(0,1)\n",
        "plt.scatter(x1,y1)\n",
        "plt.scatter(x2,y2)\n",
        "plt.scatter(x,y)\n",
        "plt.scatter(xx,yy)\n",
        "plt.show()"
      ],
      "execution_count": 2,
      "outputs": [
        {
          "output_type": "display_data",
          "data": {
            "image/png": "[encoded data removed]",
            "text/plain": [
              "<Figure size 432x288 with 1 Axes>"
            ]
          },
          "metadata": {
            "tags": [],
            "needs_background": "light"
          }
        }
      ]
    },
    {
      "cell_type": "code",
      "metadata": {
        "colab": {
          "base_uri": "https://localhost:8080/",
          "height": 265
        },
        "id": "JA_zE5Fw5mpF",
        "outputId": "98290793-dfba-4305-ec2e-90af4bf0bfbd"
      },
      "source": [
        "x1 = [0.164062, 0.158752, 0.158585, 0.158127, 0.160294]\n",
        "y = [1,1,1,1,1]\n",
        "x2 = [0.132812, 0.125626, 0.133667, 0.136765, 0.133606]\n",
        "plt.scatter(x1,y)\n",
        "plt.scatter(x2,y)\n",
        "plt.xlim(0,0.5)\n",
        "plt.show()"
      ],
      "execution_count": 3,
      "outputs": [
        {
          "output_type": "display_data",
          "data": {
            "image/png": "[encoded data removed]",
            "text/plain": [
              "<Figure size 432x288 with 1 Axes>"
            ]
          },
          "metadata": {
            "tags": [],
            "needs_background": "light"
          }
        }
      ]
    }
  ]
}